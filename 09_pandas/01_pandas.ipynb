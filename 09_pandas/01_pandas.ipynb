{
 "cells": [
  {
   "cell_type": "code",
   "execution_count": 2,
   "metadata": {},
   "outputs": [],
   "source": [
    "import numpy as np\n",
    "import pandas as pd\n"
   ]
  },
  {
   "cell_type": "code",
   "execution_count": null,
   "metadata": {},
   "outputs": [],
   "source": []
  },
  {
   "cell_type": "code",
   "execution_count": null,
   "metadata": {},
   "outputs": [],
   "source": [
    "# Reading a data file\n",
    "# we are reading a csv file\n",
    "# encoding is of 'latin1' type of this file\n",
    "\n",
    "df = pd.read_csv(\"sales_data_sample.csv\", encoding = \"latin1\") # TRY=> \"utf-8\" or \"latin1\" IF ERROR\n",
    "df"
   ]
  },
  {
   "cell_type": "code",
   "execution_count": null,
   "metadata": {},
   "outputs": [],
   "source": [
    "# Reading excel file\n",
    "# This requires openpyxl for .xlsx or xlrd for .xls\n",
    "\n",
    "df = pd.read_excel(\"SampleSuperstore.xlsx\")\n",
    "df"
   ]
  },
  {
   "cell_type": "code",
   "execution_count": null,
   "metadata": {},
   "outputs": [],
   "source": [
    "# Reading json file\n",
    "\n",
    "df = pd.read_json(\"sample_Data.json\")\n",
    "df"
   ]
  },
  {
   "cell_type": "code",
   "execution_count": 22,
   "metadata": {},
   "outputs": [],
   "source": [
    "# Creating my own data\n",
    "\n",
    "data = {\n",
    "    'Name' : ['Ritesh', 'Prithvi', 'Ajit', 'Piyush'],\n",
    "    'Age' : [20, 22, 21, 23],\n",
    "    'City' : ['Jamshedpur','Nagpur', 'Bangalore', 'Bhubaneshwar']\n",
    "}"
   ]
  },
  {
   "cell_type": "code",
   "execution_count": 23,
   "metadata": {},
   "outputs": [
    {
     "data": {
      "text/html": [
       "<div>\n",
       "<style scoped>\n",
       "    .dataframe tbody tr th:only-of-type {\n",
       "        vertical-align: middle;\n",
       "    }\n",
       "\n",
       "    .dataframe tbody tr th {\n",
       "        vertical-align: top;\n",
       "    }\n",
       "\n",
       "    .dataframe thead th {\n",
       "        text-align: right;\n",
       "    }\n",
       "</style>\n",
       "<table border=\"1\" class=\"dataframe\">\n",
       "  <thead>\n",
       "    <tr style=\"text-align: right;\">\n",
       "      <th></th>\n",
       "      <th>Name</th>\n",
       "      <th>Age</th>\n",
       "      <th>City</th>\n",
       "    </tr>\n",
       "  </thead>\n",
       "  <tbody>\n",
       "    <tr>\n",
       "      <th>0</th>\n",
       "      <td>Ritesh</td>\n",
       "      <td>20</td>\n",
       "      <td>Jamshedpur</td>\n",
       "    </tr>\n",
       "    <tr>\n",
       "      <th>1</th>\n",
       "      <td>Prithvi</td>\n",
       "      <td>22</td>\n",
       "      <td>Nagpur</td>\n",
       "    </tr>\n",
       "    <tr>\n",
       "      <th>2</th>\n",
       "      <td>Ajit</td>\n",
       "      <td>21</td>\n",
       "      <td>Bangalore</td>\n",
       "    </tr>\n",
       "    <tr>\n",
       "      <th>3</th>\n",
       "      <td>Piyush</td>\n",
       "      <td>23</td>\n",
       "      <td>Bhubaneshwar</td>\n",
       "    </tr>\n",
       "  </tbody>\n",
       "</table>\n",
       "</div>"
      ],
      "text/plain": [
       "      Name  Age          City\n",
       "0   Ritesh   20    Jamshedpur\n",
       "1  Prithvi   22        Nagpur\n",
       "2     Ajit   21     Bangalore\n",
       "3   Piyush   23  Bhubaneshwar"
      ]
     },
     "execution_count": 23,
     "metadata": {},
     "output_type": "execute_result"
    }
   ],
   "source": [
    "# accessing this data using pandas\n",
    "\n",
    "df = pd.DataFrame(data) # my created data is now a Data Frame\n",
    "\n",
    "df"
   ]
  },
  {
   "cell_type": "code",
   "execution_count": 28,
   "metadata": {},
   "outputs": [],
   "source": [
    "# How to save this data in a file \n",
    "# let's say i want to have this data in csv file so :\n",
    "\n",
    "df.to_csv(\"b2_602_boys.csv\")\n",
    "\n",
    "# this will save the file in the directory"
   ]
  },
  {
   "cell_type": "code",
   "execution_count": 29,
   "metadata": {},
   "outputs": [],
   "source": [
    "df\n",
    "\n",
    "# Now as you can see the file is containing index values - 0, 1, 2 ...\n",
    "# while saving the file you can remove this by using\n",
    "\n",
    "df.to_csv('b2_602_boys.csv', index = False)"
   ]
  },
  {
   "cell_type": "code",
   "execution_count": null,
   "metadata": {},
   "outputs": [],
   "source": []
  }
 ],
 "metadata": {
  "kernelspec": {
   "display_name": "pd_env",
   "language": "python",
   "name": "python3"
  },
  "language_info": {
   "codemirror_mode": {
    "name": "ipython",
    "version": 3
   },
   "file_extension": ".py",
   "mimetype": "text/x-python",
   "name": "python",
   "nbconvert_exporter": "python",
   "pygments_lexer": "ipython3",
   "version": "3.13.5"
  }
 },
 "nbformat": 4,
 "nbformat_minor": 2
}
