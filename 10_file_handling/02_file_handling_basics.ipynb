{
 "cells": [
  {
   "cell_type": "code",
   "execution_count": 1,
   "id": "60759195",
   "metadata": {},
   "outputs": [],
   "source": [
    "data = [['Name','Course','Fee'],\n",
    "        ['Ritesh','DS',20000],\n",
    "        ['Rahul','DA',30000],]\n"
   ]
  },
  {
   "cell_type": "code",
   "execution_count": 2,
   "id": "cd5660f4",
   "metadata": {},
   "outputs": [],
   "source": [
    "import csv"
   ]
  },
  {
   "cell_type": "markdown",
   "id": "3c7ea5b2",
   "metadata": {},
   "source": [
    "WRITING AND READING CSV"
   ]
  },
  {
   "cell_type": "code",
   "execution_count": null,
   "id": "3752521f",
   "metadata": {},
   "outputs": [],
   "source": [
    "with open ('example.csv', 'w') as f:\n",
    "    w = csv.writer(f)       # csv\n",
    "    \n",
    "    for i in data:\n",
    "        w.writerow(i)"
   ]
  },
  {
   "cell_type": "code",
   "execution_count": 4,
   "id": "119b5f3f",
   "metadata": {},
   "outputs": [
    {
     "name": "stdout",
     "output_type": "stream",
     "text": [
      "['Name', 'Course', 'Fee']\n",
      "['Ritesh', 'DS', '20000']\n",
      "['Rahul', 'DA', '30000']\n"
     ]
    }
   ],
   "source": [
    "with open('example.csv') as f:\n",
    "    r = csv.reader(f)\n",
    "\n",
    "    for i in r:\n",
    "        print(i)"
   ]
  },
  {
   "cell_type": "code",
   "execution_count": 5,
   "id": "fb249972",
   "metadata": {},
   "outputs": [],
   "source": [
    "# JSON -> JavaScript Object Notation\n",
    "\n",
    "data = {'Name' : 'Ritesh',\n",
    "        'Course' : 'DS',\n",
    "        'Age' : 21}"
   ]
  },
  {
   "cell_type": "code",
   "execution_count": 7,
   "id": "3ed4a1ff",
   "metadata": {},
   "outputs": [],
   "source": [
    "import json"
   ]
  },
  {
   "cell_type": "markdown",
   "id": "2899c71c",
   "metadata": {},
   "source": [
    "WRITING AND READING JSON"
   ]
  },
  {
   "cell_type": "code",
   "execution_count": 8,
   "id": "b412b3f6",
   "metadata": {},
   "outputs": [],
   "source": [
    "with open ('sample.json', 'w') as f:\n",
    "    json.dump(data, f)"
   ]
  },
  {
   "cell_type": "code",
   "execution_count": 10,
   "id": "cb7bc86a",
   "metadata": {},
   "outputs": [
    {
     "name": "stdout",
     "output_type": "stream",
     "text": [
      "{'Name': 'Ritesh', 'Course': 'DS', 'Age': 21}\n"
     ]
    }
   ],
   "source": [
    "with open ('sample.json') as f:\n",
    "    read = json.load(f)\n",
    "\n",
    "print(read)"
   ]
  },
  {
   "cell_type": "markdown",
   "id": "ef5550e6",
   "metadata": {},
   "source": [
    "WRITING AND READING BINARY "
   ]
  },
  {
   "cell_type": "code",
   "execution_count": 18,
   "id": "0d1b7500",
   "metadata": {},
   "outputs": [],
   "source": [
    "# binary data \n",
    "\n",
    "with open('test.bin', 'wb') as f:\n",
    "    f.write(b'\\x48\\x65\\x6c\\x6c\\x6f')    # Hello in binary"
   ]
  },
  {
   "cell_type": "code",
   "execution_count": 23,
   "id": "5ac78a1a",
   "metadata": {},
   "outputs": [
    {
     "name": "stdout",
     "output_type": "stream",
     "text": [
      "b'Hello'\n"
     ]
    }
   ],
   "source": [
    "with open('test.bin', 'rb') as f:\n",
    "    print(f.read())\n",
    "    \n"
   ]
  },
  {
   "cell_type": "markdown",
   "id": "1c80e369",
   "metadata": {},
   "source": [
    "Buffered reading and writing "
   ]
  },
  {
   "cell_type": "code",
   "execution_count": 35,
   "id": "4f2a5db1",
   "metadata": {},
   "outputs": [],
   "source": [
    "import io\n",
    "\n",
    "with open('test_buffer.txt', 'wb') as f:\n",
    "    file = io.BufferedWriter(f)\n",
    "    file.write(b'Ritesh here')\n",
    "    file.write(b'Hello World!')\n",
    "    file.write(b'Data Science!')\n",
    "    file.flush()\n"
   ]
  },
  {
   "cell_type": "code",
   "execution_count": null,
   "id": "149dce0b",
   "metadata": {},
   "outputs": [
    {
     "name": "stdout",
     "output_type": "stream",
     "text": [
      "b'Ritesh hereHello Wor'\n"
     ]
    }
   ],
   "source": [
    "with open('test_buffer.txt', 'rb') as f:\n",
    "    file = io.BufferedReader(f)\n",
    "\n",
    "    data = file.read(20) #read first 20 bytes chunk of data \n",
    "    print(data)\n",
    "    "
   ]
  }
 ],
 "metadata": {
  "kernelspec": {
   "display_name": "3.9.7",
   "language": "python",
   "name": "python3"
  },
  "language_info": {
   "codemirror_mode": {
    "name": "ipython",
    "version": 3
   },
   "file_extension": ".py",
   "mimetype": "text/x-python",
   "name": "python",
   "nbconvert_exporter": "python",
   "pygments_lexer": "ipython3",
   "version": "3.9.7"
  }
 },
 "nbformat": 4,
 "nbformat_minor": 5
}
