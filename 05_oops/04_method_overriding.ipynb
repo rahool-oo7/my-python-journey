{
 "cells": [
  {
   "cell_type": "code",
   "execution_count": 1,
   "metadata": {},
   "outputs": [
    {
     "name": "stdout",
     "output_type": "stream",
     "text": [
      "Son\n"
     ]
    }
   ],
   "source": [
    "# 04_method_overriding.py\n",
    "# -----------------------------------\n",
    "# Inheritance: Child inherits from Parent\n",
    "# Method Overriding: Child has its own version of who()\n",
    "# Use of super(): Calls the parent’s constructor before modifying attributes\n",
    "# Attribute Overriding: self.name is updated in the child\n",
    "\n",
    "\n",
    "# Define the parent class\n",
    "class Parent:\n",
    "    def __init__(self):\n",
    "        # Set the name attribute to \"father\"\n",
    "        self.name = \"father\"\n",
    "\n",
    "    def who(self):\n",
    "        # Print the identity of the class\n",
    "        print(\"Father\")\n",
    "\n",
    "# Define the child class inheriting from Parent\n",
    "class Child(Parent):\n",
    "    def __init__(self):\n",
    "        # Call the parent class constructor using super()\n",
    "        super().__init__()\n",
    "        # Override the name attribute to \"son\"\n",
    "        self.name = \"son\"\n",
    "    \n",
    "    def who(self):\n",
    "        # Override the parent's who() method\n",
    "        print(\"Son\")\n",
    "\n",
    "# Create an object of the Child class\n",
    "obj = Child()\n",
    "\n",
    "# Call the who() method – will execute the child's version\n",
    "obj.who()   # Output: Son\n"
   ]
  }
 ],
 "metadata": {
  "kernelspec": {
   "display_name": "venv07",
   "language": "python",
   "name": "python3"
  },
  "language_info": {
   "codemirror_mode": {
    "name": "ipython",
    "version": 3
   },
   "file_extension": ".py",
   "mimetype": "text/x-python",
   "name": "python",
   "nbconvert_exporter": "python",
   "pygments_lexer": "ipython3",
   "version": "3.13.5"
  }
 },
 "nbformat": 4,
 "nbformat_minor": 2
}
