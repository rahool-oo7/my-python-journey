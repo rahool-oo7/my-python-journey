{
 "cells": [
  {
   "cell_type": "markdown",
   "metadata": {},
   "source": [
    "**ARRAY MODIFICATION**"
   ]
  },
  {
   "cell_type": "code",
   "execution_count": 1,
   "metadata": {},
   "outputs": [],
   "source": [
    "import numpy as np\n"
   ]
  },
  {
   "cell_type": "code",
   "execution_count": 7,
   "metadata": {},
   "outputs": [
    {
     "name": "stdout",
     "output_type": "stream",
     "text": [
      "[10 20 30 40 50 60]\n",
      "[ 10  20 100  30  40  50  60]\n"
     ]
    }
   ],
   "source": [
    "#INSERT / ADD \n",
    "\n",
    "# SYNTAX => np.insert(array, index_no, value, axis= None)\n",
    "'''\n",
    "axis = 0 => row wise \n",
    "axis = 1 => col wise \n",
    "'''\n",
    "\n",
    "arr = np.array([10,20,30,40,50,60])\n",
    "print(arr)\n",
    "\n",
    "new_arr = np.insert(arr, 2, 100, axis = 0) # axis = 0 is default\n",
    "print(new_arr)"
   ]
  },
  {
   "cell_type": "code",
   "execution_count": 13,
   "metadata": {},
   "outputs": [
    {
     "name": "stdout",
     "output_type": "stream",
     "text": [
      "Original : \n",
      " [[1 2]\n",
      " [3 4]]\n",
      "Inserting row wise : \n",
      " [[1 2]\n",
      " [5 6]\n",
      " [3 4]]\n",
      "Inserting row wise : \n",
      " [[1 5 2]\n",
      " [3 6 4]]\n",
      "Inserting row wise :  [1 5 6 2 3 4]\n"
     ]
    }
   ],
   "source": [
    "#insert in 2D\n",
    "\n",
    "arr = np.array([[1,2],[3,4]])\n",
    "print(\"Original : \\n\", arr)\n",
    "\n",
    "\n",
    "row_arr = np.insert(arr, 1, [5,6], axis = 0 )\n",
    "print(\"Inserting row wise : \\n\", row_arr)\n",
    "\n",
    "col_arr = np.insert(arr, 1, [5,6], axis = 1 )\n",
    "print(\"Inserting row wise : \\n\", col_arr)\n",
    "\n",
    "flat_arr = np.insert(arr, 1, [5,6], axis = None ) # if axis = None then the element will add in flatten array\n",
    "print(\"Inserting row wise : \", flat_arr)\n"
   ]
  },
  {
   "cell_type": "code",
   "execution_count": 16,
   "metadata": {},
   "outputs": [
    {
     "data": {
      "text/plain": [
       "array([1, 2, 3, 4, 5, 6])"
      ]
     },
     "execution_count": 16,
     "metadata": {},
     "output_type": "execute_result"
    }
   ],
   "source": [
    "# append => add element at last\n",
    "\n",
    "arr = np.array([1,2,3,4])\n",
    "# new_arr = np.append(arr, 5)\n",
    "new_arr = np.append(arr, [5,6])\n",
    "new_arr\n"
   ]
  },
  {
   "cell_type": "code",
   "execution_count": null,
   "metadata": {},
   "outputs": [
    {
     "data": {
      "text/plain": [
       "array([ 2,  4,  8, 10])"
      ]
     },
     "execution_count": 24,
     "metadata": {},
     "output_type": "execute_result"
    }
   ],
   "source": [
    "# array concatination\n",
    "\n",
    "arr1 = np.array([1,2])\n",
    "arr2 = np.array([3,4])\n",
    "\n",
    "new_Arr = np.concatenate((arr1, arr2), axis = 0) # in 1d no need of axis\n",
    "new_Arr\n",
    "\n"
   ]
  },
  {
   "cell_type": "code",
   "execution_count": 38,
   "metadata": {},
   "outputs": [
    {
     "data": {
      "text/plain": [
       "array([[1, 2, 1, 2],\n",
       "       [3, 4, 5, 6]])"
      ]
     },
     "execution_count": 38,
     "metadata": {},
     "output_type": "execute_result"
    }
   ],
   "source": [
    "arr1_2d = np.array([[1,2],[3,4]])\n",
    "arr2_2d = np.array([[1,2],[5,6]])\n",
    "\n",
    "new_arr = np.concatenate((arr1_2d, arr2_2d), axis = 1)\n",
    "new_arr\n"
   ]
  },
  {
   "cell_type": "code",
   "execution_count": 43,
   "metadata": {},
   "outputs": [
    {
     "name": "stdout",
     "output_type": "stream",
     "text": [
      "[0 1 2 3 4 5 6 7 8 9]\n"
     ]
    },
    {
     "data": {
      "text/plain": [
       "array([[3, 4],\n",
       "       [5, 6]])"
      ]
     },
     "execution_count": 43,
     "metadata": {},
     "output_type": "execute_result"
    }
   ],
   "source": [
    "# np.delete(array, index, axis = None)\n",
    "\n",
    "arr = np.arange(10)\n",
    "print(arr)\n",
    "\n",
    "new_arr = np.delete(arr, 3, axis = None)\n",
    "new_arr\n",
    "\n",
    "\n",
    "# 2d array delete\n",
    "\n",
    "arr_2d = np.array([[1,2],[3,4],[5,6]])\n",
    "new_2d_arr = np.delete(arr_2d, 0, axis = 0)\n",
    "new_2d_arr\n",
    "\n"
   ]
  },
  {
   "cell_type": "code",
   "execution_count": 46,
   "metadata": {},
   "outputs": [
    {
     "name": "stdout",
     "output_type": "stream",
     "text": [
      "[[1 2]\n",
      " [3 4]\n",
      " [5 6]\n",
      " [6 7]\n",
      " [3 4]\n",
      " [4 3]]\n",
      "[[1 2 6 7]\n",
      " [3 4 3 4]\n",
      " [5 6 4 3]]\n"
     ]
    }
   ],
   "source": [
    "# vstack => vertical stacking\n",
    "# hstack => horizontal stacking\n",
    "\n",
    "arr1 = np.array([[1,2],[3,4],[5,6]])\n",
    "arr2 = np.array([[6,7],[3,4],[4,3]])\n",
    "\n",
    "v_arr = np.vstack((arr1,arr2))\n",
    "print(v_arr)\n",
    "h_arr = np.hstack((arr1,arr2))\n",
    "print(h_arr)\n"
   ]
  },
  {
   "cell_type": "code",
   "execution_count": null,
   "metadata": {},
   "outputs": [
    {
     "data": {
      "text/plain": [
       "[array([10, 20]), array([30, 40]), array([50, 60])]"
      ]
     },
     "execution_count": 55,
     "metadata": {},
     "output_type": "execute_result"
    }
   ],
   "source": [
    "#SPLITTING\n",
    "\n",
    "# np.split() => equal splitting \n",
    "# np.hsplit()\n",
    "# np.vsplit()\n",
    "\n",
    "arr = np.array([10,20,30,40,50,60])\n",
    "np.split(arr, 3) # 2 here is the number of parts to divide the array\n",
    "\n",
    "# split size should match "
   ]
  },
  {
   "cell_type": "code",
   "execution_count": 103,
   "metadata": {},
   "outputs": [
    {
     "name": "stdout",
     "output_type": "stream",
     "text": [
      "[90.0, 180.0, 270.0]\n",
      "[ 90. 180. 270.]\n",
      "[ 90 180 270]\n"
     ]
    }
   ],
   "source": [
    "# BROADCASTING\n",
    "\n",
    "# without broadcasting\n",
    "price = [100, 200, 300]\n",
    "discount = 10 # 10% discount\n",
    "\n",
    "final_price = [x-(x*discount/100) for x in price ]    #looping is slow\n",
    "print(final_price)\n",
    "\n",
    "#with broadcasting\n",
    "arr = np.array([100,200,300])\n",
    "final = arr - (arr * discount / 100)\n",
    "print(final)\n",
    "\n",
    "\n",
    "# to print in integer\n",
    "print(final.astype(int))"
   ]
  },
  {
   "cell_type": "code",
   "execution_count": null,
   "metadata": {},
   "outputs": [
    {
     "data": {
      "text/plain": [
       "array([[11, 22, 33],\n",
       "       [14, 25, 36]])"
      ]
     },
     "execution_count": 105,
     "metadata": {},
     "output_type": "execute_result"
    }
   ],
   "source": [
    "# How numpy handle array of different shapes \n",
    "\n",
    "# 1d to 2d multiply\n",
    "\n",
    "matrix = np.array([[1,2,3],[4,5,6]])\n",
    "vector = np.array([10,20,30])\n",
    "\n",
    "result = matrix + vector\n",
    "print(result) \n",
    "\n"
   ]
  },
  {
   "cell_type": "code",
   "execution_count": 106,
   "metadata": {},
   "outputs": [
    {
     "ename": "ValueError",
     "evalue": "operands could not be broadcast together with shapes (2,3) (2,) ",
     "output_type": "error",
     "traceback": [
      "\u001b[31m---------------------------------------------------------------------------\u001b[39m",
      "\u001b[31mValueError\u001b[39m                                Traceback (most recent call last)",
      "\u001b[36mCell\u001b[39m\u001b[36m \u001b[39m\u001b[32mIn[106]\u001b[39m\u001b[32m, line 6\u001b[39m\n\u001b[32m      3\u001b[39m arr1 = np.array([[\u001b[32m1\u001b[39m,\u001b[32m2\u001b[39m,\u001b[32m3\u001b[39m],[\u001b[32m4\u001b[39m,\u001b[32m5\u001b[39m,\u001b[32m6\u001b[39m]])\n\u001b[32m      4\u001b[39m arr2 = np.array([\u001b[32m1\u001b[39m,\u001b[32m2\u001b[39m])\n\u001b[32m----> \u001b[39m\u001b[32m6\u001b[39m res = \u001b[43marr1\u001b[49m\u001b[43m \u001b[49m\u001b[43m+\u001b[49m\u001b[43m \u001b[49m\u001b[43marr2\u001b[49m\n\u001b[32m      8\u001b[39m \u001b[38;5;66;03m# since the size is not matching or it cannot be expanded to match SO ERROR\u001b[39;00m\n\u001b[32m      9\u001b[39m \u001b[38;5;28mprint\u001b[39m(res)\n",
      "\u001b[31mValueError\u001b[39m: operands could not be broadcast together with shapes (2,3) (2,) "
     ]
    }
   ],
   "source": [
    "# incompatible shapes [ERROR]\n",
    "\n",
    "arr1 = np.array([[1,2,3],[4,5,6]])\n",
    "arr2 = np.array([1,2])\n",
    "\n",
    "res = arr1 + arr2\n",
    "\n",
    "# since the size is not matching or it cannot be expanded to match SO ERROR\n",
    "print(res)"
   ]
  },
  {
   "cell_type": "code",
   "execution_count": null,
   "metadata": {},
   "outputs": [
    {
     "name": "stdout",
     "output_type": "stream",
     "text": [
      "[[2 4]\n",
      " [4 6]\n",
      " [6 8]]\n"
     ]
    }
   ],
   "source": [
    "#fixing using reshape\n",
    "\n",
    "\n",
    "arr1 = np.array([[1,2,3],[4,5,6]])\n",
    "arr2 = np.array([1,2])\n",
    "\n",
    "#reshaping from (2,3) to (3,2)\n",
    "arr1 = arr1.reshape((3,2))\n",
    "\n",
    "#now it could perform broadcasting\n",
    "res = arr1 + arr2\n",
    "\n",
    "print(res)"
   ]
  },
  {
   "cell_type": "code",
   "execution_count": null,
   "metadata": {},
   "outputs": [],
   "source": [
    "# HANDLING MISSING VALUES\n",
    "\n",
    "# nan => not a number\n",
    "# np.isnan(array) -> provides a boolean list with nan values as True "
   ]
  },
  {
   "cell_type": "code",
   "execution_count": 110,
   "metadata": {},
   "outputs": [
    {
     "name": "stdout",
     "output_type": "stream",
     "text": [
      "[False False  True False False  True False]\n"
     ]
    }
   ],
   "source": [
    "arr = np.array([1,2,np.nan,4,5,np.nan,7])\n",
    "print(np.isnan(arr))"
   ]
  },
  {
   "cell_type": "code",
   "execution_count": 113,
   "metadata": {},
   "outputs": [
    {
     "name": "stdout",
     "output_type": "stream",
     "text": [
      "[1. 2. 0. 4. 5. 0. 7.]\n",
      "[  1.   2. 100.   4.   5. 100.   7.]\n"
     ]
    }
   ],
   "source": [
    "# nan_to_num(array, nan=value)    default -> 0\n",
    "\n",
    "# Replacing missing values\n",
    "\n",
    "cleaned_arr = np.nan_to_num(arr)\n",
    "print(cleaned_arr)\n",
    "\n",
    "cleaned_arr = np.nan_to_num(arr, nan = 100)\n",
    "print(cleaned_arr)\n"
   ]
  },
  {
   "cell_type": "code",
   "execution_count": 115,
   "metadata": {},
   "outputs": [
    {
     "name": "stdout",
     "output_type": "stream",
     "text": [
      "[False False  True False  True]\n"
     ]
    }
   ],
   "source": [
    "# np.isinf(array) => checks if any infinite value like these: 10^10000, 1/0 present\n",
    "\n",
    "arr = np.array([1,2,np.inf,6, -np.inf])\n",
    "\n",
    "print(np.isinf(arr))"
   ]
  },
  {
   "cell_type": "code",
   "execution_count": 116,
   "metadata": {},
   "outputs": [
    {
     "data": {
      "text/plain": [
       "array([    1.,     2.,  1000.,     6., -1000.])"
      ]
     },
     "execution_count": 116,
     "metadata": {},
     "output_type": "execute_result"
    }
   ],
   "source": [
    "# replacing to finite value \n",
    "\n",
    "cleaned_arr = np.nan_to_num(arr, posinf = 1000, neginf = -1000)\n",
    "#posinf to set positive infinite value and neginf for negative\n",
    "\n",
    "cleaned_arr"
   ]
  }
 ],
 "metadata": {
  "kernelspec": {
   "display_name": "mpl_env",
   "language": "python",
   "name": "python3"
  },
  "language_info": {
   "codemirror_mode": {
    "name": "ipython",
    "version": 3
   },
   "file_extension": ".py",
   "mimetype": "text/x-python",
   "name": "python",
   "nbconvert_exporter": "python",
   "pygments_lexer": "ipython3",
   "version": "3.13.5"
  }
 },
 "nbformat": 4,
 "nbformat_minor": 2
}
