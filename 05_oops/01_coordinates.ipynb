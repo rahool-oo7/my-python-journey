{
 "cells": [
  {
   "cell_type": "markdown",
   "metadata": {},
   "source": [
    "COORDINATE GEOMETRY"
   ]
  },
  {
   "cell_type": "code",
   "execution_count": 12,
   "metadata": {},
   "outputs": [],
   "source": [
    "import math"
   ]
  },
  {
   "cell_type": "code",
   "execution_count": 79,
   "metadata": {},
   "outputs": [],
   "source": [
    "class Point:\n",
    "    def __init__(self, x, y):\n",
    "        self.x_cor = x\n",
    "        self.y_cor = y\n",
    "\n",
    "    def __str__(self):\n",
    "        return f\"<{self.x_cor},{self.y_cor}>\"\n",
    "\n",
    "    def euclidean_distance(self, other): #self = Point A, other = Point B\n",
    "        #FORMAULA => sqrt[(x2-x1)sq + (y2-y1)sq]\n",
    "        distance = math.sqrt((other.x_cor - self.x_cor)**2 + (other.y_cor - self.y_cor)**2)\n",
    "        return distance\n",
    "    \n",
    "    def origin_distance(self):\n",
    "        # distance = math.sqrt(self.x_cor**2 + self.y_cor**2)\n",
    "        # return distance\n",
    "        # OR\n",
    "        return self.euclidean_distance(Point(0,0))   #calling other func and sending origin as parameter along with self\n",
    "\n",
    "\n",
    "\n",
    "\n",
    "class Line:    # Ax + By + C\n",
    "\n",
    "    def __init__(self, A, B, C):\n",
    "        self.A = A\n",
    "        self.B = B\n",
    "        self.C = C\n",
    "\n",
    "\n",
    "    def __str__(self):\n",
    "        if(self.B < 0)&(self.C < 0):\n",
    "            return f\"{self.A}x{self.B}y{self.C} = 0\"\n",
    "        elif (self.B < 0):\n",
    "            return f\"{self.A}x{self.B}y+{self.C} = 0\"\n",
    "        elif (self.C < 0):\n",
    "            return f\"{self.A}x+{self.B}y{self.C} = 0\"\n",
    "        else:\n",
    "            return f\"{self.A}x+{self.B}y+{self.C} = 0\"\n",
    "    \n",
    "\n",
    "    def point_on_line(line, point):\n",
    "        if line.A*point.x_cor + line.B*point.y_cor + line.C == 0:\n",
    "            return \"lies on the line\"\n",
    "        else:\n",
    "            return \"doesn't lie on the line\"\n",
    "        \n",
    "    def shortest_distance(line, point):\n",
    "        #ax+by+c\n",
    "        return (abs(line.A*point.x_cor + line.B*point.y_cor + line.C) / math.sqrt(line.A**2 + line.B**2) )\n",
    "    \n",
    "    \n",
    "    def line_intersect(self, line):\n",
    "        denominator = (self.A*line.B - line.A*self.B)\n",
    "        if(denominator == 0):\n",
    "            return \"lines are either parallel or coinsident\"\n",
    "        x = (self.B*line.C - line.B*self.C) / denominator\n",
    "        y = (self.C*line.A - line.C*self.A) / denominator\n",
    "        return f\"lines intersect at : <{round(x,2)},{round(y,2)}>\"\n",
    "\n"
   ]
  },
  {
   "cell_type": "code",
   "execution_count": 93,
   "metadata": {},
   "outputs": [
    {
     "name": "stdout",
     "output_type": "stream",
     "text": [
      "Line:  2x-3y+1 = 0\n",
      "doesn't lie on the line\n",
      "1.39  units\n",
      "lines intersect at : <2.67,2.11>\n"
     ]
    }
   ],
   "source": [
    "p1 = Point(3,4)\n",
    "# print(p1)\n",
    "p2 = Point(0,2)\n",
    "# print(p2)\n",
    "\n",
    "# print(\"Euclidean distance : \",p1.euclidean_distance(p2)) # distance between two points\n",
    "\n",
    "# print(\"Distance from origin : \",p2.origin_distance())  #distance from origin\n",
    "\n",
    "l1 = Line(2, -3, 1)\n",
    "print(\"Line: \",l1)\n",
    "\n",
    "print(l1.point_on_line(p2))\n",
    "print(round(l1.shortest_distance(p1),2),\" units\")\n",
    "\n",
    "l2 = Line(1, -6, 10)\n",
    "\n",
    "print(l1.line_intersect(l2))"
   ]
  }
 ],
 "metadata": {
  "kernelspec": {
   "display_name": "venv07",
   "language": "python",
   "name": "python3"
  },
  "language_info": {
   "codemirror_mode": {
    "name": "ipython",
    "version": 3
   },
   "file_extension": ".py",
   "mimetype": "text/x-python",
   "name": "python",
   "nbconvert_exporter": "python",
   "pygments_lexer": "ipython3",
   "version": "3.13.5"
  }
 },
 "nbformat": 4,
 "nbformat_minor": 2
}
