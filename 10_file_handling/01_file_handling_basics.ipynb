{
 "cells": [
  {
   "cell_type": "code",
   "execution_count": 1,
   "id": "b45eaa29",
   "metadata": {},
   "outputs": [],
   "source": [
    "import os "
   ]
  },
  {
   "cell_type": "code",
   "execution_count": null,
   "id": "c6368139",
   "metadata": {},
   "outputs": [
    {
     "data": {
      "text/plain": [
       "'/Users/ritesh/Aastra/my-python-journey/10_file_handling'"
      ]
     },
     "execution_count": 2,
     "metadata": {},
     "output_type": "execute_result"
    }
   ],
   "source": [
    "os.getcwd() # current working directory"
   ]
  },
  {
   "cell_type": "code",
   "execution_count": 3,
   "id": "9a3bd146",
   "metadata": {},
   "outputs": [
    {
     "name": "stdout",
     "output_type": "stream",
     "text": [
      "01_file_handling.ipynb\n"
     ]
    }
   ],
   "source": [
    "ls # list of files"
   ]
  },
  {
   "cell_type": "code",
   "execution_count": null,
   "id": "31102083",
   "metadata": {},
   "outputs": [
    {
     "data": {
      "text/plain": [
       "'/Users/ritesh/Aastra/my-python-journey/10_file_handling'"
      ]
     },
     "execution_count": 4,
     "metadata": {},
     "output_type": "execute_result"
    }
   ],
   "source": [
    "pwd  # present working directory"
   ]
  },
  {
   "cell_type": "code",
   "execution_count": 7,
   "id": "3f467669",
   "metadata": {},
   "outputs": [
    {
     "data": {
      "text/plain": [
       "2052"
      ]
     },
     "execution_count": 7,
     "metadata": {},
     "output_type": "execute_result"
    }
   ],
   "source": [
    "os.path.getsize('01_file_handling.ipynb')"
   ]
  },
  {
   "cell_type": "code",
   "execution_count": 8,
   "id": "e22e5724",
   "metadata": {},
   "outputs": [],
   "source": [
    "os.mkdir('sample')"
   ]
  },
  {
   "cell_type": "code",
   "execution_count": 9,
   "id": "9303fd87",
   "metadata": {},
   "outputs": [],
   "source": [
    "os.mkdir('sample/test01')"
   ]
  },
  {
   "cell_type": "code",
   "execution_count": null,
   "id": "626ef279",
   "metadata": {},
   "outputs": [],
   "source": [
    "os.makedirs('one/two/three/four')"
   ]
  },
  {
   "cell_type": "code",
   "execution_count": 12,
   "id": "f8fd8ebc",
   "metadata": {},
   "outputs": [
    {
     "name": "stdout",
     "output_type": "stream",
     "text": [
      "01_file_handling.ipynb  \u001b[34mone\u001b[m\u001b[m/                    \u001b[34msample\u001b[m\u001b[m/\n"
     ]
    }
   ],
   "source": [
    "ls"
   ]
  },
  {
   "cell_type": "code",
   "execution_count": 14,
   "id": "e00e69e6",
   "metadata": {},
   "outputs": [
    {
     "data": {
      "text/plain": [
       "['01_file_handling.ipynb', 'one', 'sample']"
      ]
     },
     "execution_count": 14,
     "metadata": {},
     "output_type": "execute_result"
    }
   ],
   "source": [
    "os.listdir()"
   ]
  },
  {
   "cell_type": "code",
   "execution_count": 15,
   "id": "f2136429",
   "metadata": {},
   "outputs": [],
   "source": [
    "os.mkdir('new')"
   ]
  },
  {
   "cell_type": "code",
   "execution_count": null,
   "id": "82786a22",
   "metadata": {},
   "outputs": [],
   "source": [
    "os.rmdir('new') # to delete a directory"
   ]
  },
  {
   "cell_type": "code",
   "execution_count": null,
   "id": "263c27d6",
   "metadata": {},
   "outputs": [],
   "source": [
    "import shutil\n",
    "\n",
    "shutil.rmtree('sample') # to delete directory which aren't empty"
   ]
  },
  {
   "cell_type": "code",
   "execution_count": 18,
   "id": "c3168992",
   "metadata": {},
   "outputs": [
    {
     "data": {
      "text/plain": [
       "<_io.TextIOWrapper name='one/two/three/four/file_new.txt' mode='w' encoding='UTF-8'>"
      ]
     },
     "execution_count": 18,
     "metadata": {},
     "output_type": "execute_result"
    }
   ],
   "source": [
    "open('one/two/three/four/file_new.txt', 'w')"
   ]
  },
  {
   "cell_type": "code",
   "execution_count": null,
   "id": "642629c5",
   "metadata": {},
   "outputs": [
    {
     "data": {
      "text/plain": [
       "'/Users/ritesh/Aastra/my-python-journey/10_file_handling/file_new.txt'"
      ]
     },
     "execution_count": 24,
     "metadata": {},
     "output_type": "execute_result"
    }
   ],
   "source": [
    "# copy a file from one loc to another\n",
    "\n",
    "shutil.copy('one/two/three/four/file_new.txt', os.getcwd() )    # src, destination\n",
    "# you could have directly given the path instead of os.getcwd()"
   ]
  },
  {
   "cell_type": "code",
   "execution_count": 27,
   "id": "388f338b",
   "metadata": {},
   "outputs": [
    {
     "data": {
      "text/plain": [
       "'/Users/ritesh/Aastra/my-python-journey/10_file_handling/hello/file_new.txt'"
      ]
     },
     "execution_count": 27,
     "metadata": {},
     "output_type": "execute_result"
    }
   ],
   "source": [
    "# move a file \n",
    "\n",
    "shutil.move('one/two/three/four/file_new.txt', '/Users/ritesh/Aastra/my-python-journey/10_file_handling/hello')"
   ]
  },
  {
   "cell_type": "code",
   "execution_count": 26,
   "id": "8a49e017",
   "metadata": {},
   "outputs": [
    {
     "data": {
      "text/plain": [
       "'/Users/ritesh/Aastra/my-python-journey/10_file_handling'"
      ]
     },
     "execution_count": 26,
     "metadata": {},
     "output_type": "execute_result"
    }
   ],
   "source": [
    "os.getcwd()"
   ]
  },
  {
   "cell_type": "code",
   "execution_count": 41,
   "id": "1a46f44b",
   "metadata": {},
   "outputs": [],
   "source": [
    "with open('file_new.txt', 'w+') as f:\n",
    "    f.write(\"Hello Ji!\")\n",
    "\n"
   ]
  }
 ],
 "metadata": {
  "kernelspec": {
   "display_name": "3.9.7",
   "language": "python",
   "name": "python3"
  },
  "language_info": {
   "codemirror_mode": {
    "name": "ipython",
    "version": 3
   },
   "file_extension": ".py",
   "mimetype": "text/x-python",
   "name": "python",
   "nbconvert_exporter": "python",
   "pygments_lexer": "ipython3",
   "version": "3.9.7"
  }
 },
 "nbformat": 4,
 "nbformat_minor": 5
}
