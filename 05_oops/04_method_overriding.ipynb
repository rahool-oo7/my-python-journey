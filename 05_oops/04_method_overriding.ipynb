# 04_method_overriding.py
# -----------------------------------
# Inheritance: Child inherits from Parent
# Method Overriding: Child has its own version of who()
# Use of super(): Calls the parent’s constructor before modifying attributes
# Attribute Overriding: self.name is updated in the child


# Define the parent class
class Parent:
    def __init__(self):
        # Set the name attribute to "father"
        self.name = "father"

    def who(self):
        # Print the identity of the class
        print("Father")

# Define the child class inheriting from Parent
class Child(Parent):
    def __init__(self):
        # Call the parent class constructor using super()
        super().__init__()
        # Override the name attribute to "son"
        self.name = "son"
    
    def who(self):
        # Override the parent's who() method
        print("Son")

# Create an object of the Child class
obj = Child()

# Call the who() method – will execute the child's version
obj.who()   # Output: Son
